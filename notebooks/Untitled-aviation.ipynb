{
 "cells": [
  {
   "cell_type": "markdown",
   "id": "4d85c87b",
   "metadata": {},
   "source": [
    "# **Business Understanding**\n",
    "\n",
    "## **Project Overview**\n",
    "The company is expanding into the aviation industry and plans to purchase and operate airplanes for commercial and private enterprises. However, it currently lacks knowledge about the relative safety and risks associated with different aircraft.\n",
    "\n",
    "## **Business Problem**\n",
    "The key challenge is determining which aircraft are **lowest risk** for purchase and operation. Making uninformed decisions could lead to increased accident rates, financial loss, and reputational damage.\n",
    "\n",
    "**Key Business Question:**  \n",
    "Which aircraft models and manufacturers present the *lowest operational risk* based on historical accident and safety data?\n",
    "\n",
    "## **Stakeholders**\n",
    "- **Head of the Aviation Division:** Needs actionable insights to decide which aircraft to invest in.  \n",
    "- **Company Executives:** Interested in diversifying the company portfolio while minimizing operational risk.  \n",
    "- **Operations Team:** Requires guidance for safe aircraft selection and planning.\n",
    "\n",
    "## **Project Goals**\n",
    "- Identify patterns in aviation accident data to determine aircraft safety.  \n",
    "- Analyze historical accident trends to evaluate risks by aircraft type, manufacturer, and usage.  \n",
    "- Provide three evidence-based recommendations to guide aircraft purchase decisions.\n",
    "\n",
    "## **Analytical Approach**\n",
    "This project will analyze historical aviation accident data to identify low-risk aircraft. The analysis involves exploring accident trends, calculating risk metrics (e.g., fatality rates), and visualizing patterns. Insights will support evidence-based decision-making in aircraft selection.\n",
    "\n",
    "## **Value to the Stakeholder**\n",
    "This project will enable the aviation division to:  \n",
    "- Make **data-driven decisions** about aircraft acquisition.  \n",
    "- Minimize **financial and operational risks** associated with unsafe aircraft.  \n",
    "- Prioritize aircraft investments that maximize safety and reliability.\n",
    "\n",
    "## **Success Criteria**\n",
    "The project is successful if it identifies at least three aircraft models with significantly lower fatality or accident rates compared to the fleet average."
   ]
  },
  {
   "cell_type": "markdown",
   "id": "6b635e1a",
   "metadata": {},
   "source": [
    "# **Data Understanding**\n",
    "\n",
    "## **Overview**\n",
    "The dataset comes from the **National Transportation Safety Board (NTSB)** and contains information about **civil aviation accidents** and **selected incidents** from **1962 to 2023**.  \n",
    "Each record represents an individual aviation event and includes details such as:\n",
    "- **Date and location of the accident**\n",
    "- **Aircraft type, make, and model**\n",
    "- **Flight purpose**\n",
    "- **Number of injuries and fatalities**\n",
    "- **Weather conditions**\n",
    "- **Investigation findings**\n",
    "\n",
    "The goal of this step is to explore the dataset, understand its structure, and assess data quality before analysis."
   ]
  }
 ],
 "metadata": {
  "language_info": {
   "name": "python"
  }
 },
 "nbformat": 4,
 "nbformat_minor": 5
}
